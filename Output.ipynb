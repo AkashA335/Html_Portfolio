{
 "cells": [
  {
   "cell_type": "code",
   "execution_count": 1,
   "id": "32a48d56",
   "metadata": {},
   "outputs": [
    {
     "name": "stdout",
     "output_type": "stream",
     "text": [
      "Accuracy: 1.0\n"
     ]
    }
   ],
   "source": [
    "# Importing necessary libraries\n",
    "from sklearn.datasets import load_iris\n",
    "from sklearn.model_selection import train_test_split\n",
    "from sklearn.tree import DecisionTreeClassifier\n",
    "from sklearn.metrics import accuracy_score\n",
    "\n",
    "# Load the iris dataset\n",
    "iris = load_iris()\n",
    "X = iris.data\n",
    "y = iris.target\n",
    "\n",
    "# Splitting the dataset into training and testing sets\n",
    "X_train, X_test, y_train, y_test = train_test_split(X, y, test_size=0.2, random_state=42)\n",
    "\n",
    "# Creating the decision tree classifier\n",
    "clf = DecisionTreeClassifier()\n",
    "\n",
    "# Training the classifier\n",
    "clf.fit(X_train, y_train)\n",
    "\n",
    "# Making predictions on the testing set\n",
    "y_pred = clf.predict(X_test)\n",
    "\n",
    "# Calculating the accuracy of the model\n",
    "accuracy = accuracy_score(y_test, y_pred)\n",
    "print(\"Accuracy:\", accuracy)"
   ]
  },
  {
   "cell_type": "code",
   "execution_count": 2,
   "id": "7752b268",
   "metadata": {},
   "outputs": [
    {
     "name": "stdout",
     "output_type": "stream",
     "text": [
      "Accuracy: 1.0\n"
     ]
    }
   ],
   "source": [
    "# Importing necessary libraries\n",
    "from sklearn.datasets import load_iris\n",
    "from sklearn.model_selection import train_test_split\n",
    "from sklearn.ensemble import RandomForestClassifier\n",
    "from sklearn.metrics import accuracy_score\n",
    "\n",
    "# Load the iris dataset\n",
    "iris = load_iris()\n",
    "X = iris.data\n",
    "y = iris.target\n",
    "\n",
    "# Splitting the dataset into training and testing sets\n",
    "X_train, X_test, y_train, y_test = train_test_split(X, y, test_size=0.2, random_state=42)\n",
    "\n",
    "# Creating the Random Forest classifier\n",
    "clf = RandomForestClassifier()\n",
    "\n",
    "# Training the classifier\n",
    "clf.fit(X_train, y_train)\n",
    "\n",
    "# Making predictions on the testing set\n",
    "y_pred = clf.predict(X_test)\n",
    "\n",
    "# Calculating the accuracy of the model\n",
    "accuracy = accuracy_score(y_test, y_pred)\n",
    "print(\"Accuracy:\", accuracy)\n"
   ]
  },
  {
   "cell_type": "code",
   "execution_count": 3,
   "id": "472d6185",
   "metadata": {},
   "outputs": [
    {
     "name": "stdout",
     "output_type": "stream",
     "text": [
      "Accuracy: 0.3\n"
     ]
    }
   ],
   "source": [
    "# Importing necessary libraries\n",
    "import numpy as np\n",
    "from sklearn.model_selection import train_test_split\n",
    "from sklearn.neural_network import MLPClassifier\n",
    "from sklearn.metrics import accuracy_score\n",
    "\n",
    "# Generate random dataset\n",
    "np.random.seed(0)\n",
    "X = np.random.randn(100, 2)  # 100 samples, 2 features\n",
    "y = np.random.randint(0, 2, 100)  # Binary classification problem with 2 classes\n",
    "\n",
    "# Splitting the dataset into training and testing sets\n",
    "X_train, X_test, y_train, y_test = train_test_split(X, y, test_size=0.2, random_state=42)\n",
    "\n",
    "# Creating the neural network classifier\n",
    "clf = MLPClassifier(hidden_layer_sizes=(4,), activation='relu', solver='adam', max_iter=1000, random_state=42)\n",
    "\n",
    "# Training the classifier\n",
    "clf.fit(X_train, y_train)\n",
    "\n",
    "# Making predictions on the testing set\n",
    "y_pred = clf.predict(X_test)\n",
    "\n",
    "# Calculating the accuracy of the model\n",
    "accuracy = accuracy_score(y_test, y_pred)\n",
    "print(\"Accuracy:\", accuracy)\n"
   ]
  },
  {
   "cell_type": "code",
   "execution_count": 1,
   "id": "6a3e0827",
   "metadata": {},
   "outputs": [
    {
     "data": {
      "image/png": "[encoded data removed]",
      "text/plain": [
       "<Figure size 432x288 with 1 Axes>"
      ]
     },
     "metadata": {
      "needs_background": "light"
     },
     "output_type": "display_data"
    },
    {
     "name": "stdout",
     "output_type": "stream",
     "text": [
      "Mean Squared Error (MSE): 0.9177532469714291\n",
      "R-Squared value: 0.6521157503858556\n"
     ]
    }
   ],
   "source": [
    "# Importing necessary libraries\n",
    "import numpy as np\n",
    "import matplotlib.pyplot as plt\n",
    "from sklearn.model_selection import train_test_split\n",
    "from sklearn.linear_model import LinearRegression\n",
    "from sklearn.metrics import mean_squared_error, r2_score\n",
    "\n",
    "# Generating sample data\n",
    "np.random.seed(0)\n",
    "X = 2 * np.random.rand(100, 1)\n",
    "y = 3 * X + 4 + np.random.randn(100, 1)\n",
    "\n",
    "# Splitting the data into training and testing sets\n",
    "X_train, X_test, y_train, y_test = train_test_split(X, y, test_size=0.2, random_state=42)\n",
    "\n",
    "# Creating and fitting the Linear Regression model\n",
    "model = LinearRegression()\n",
    "model.fit(X_train, y_train)\n",
    "\n",
    "# Making predictions\n",
    "y_pred = model.predict(X_test)\n",
    "\n",
    "# Calculating Mean Squared Error (MSE)\n",
    "mse = mean_squared_error(y_test, y_pred)\n",
    "\n",
    "# Calculating R-Squared value\n",
    "r2 = r2_score(y_test, y_pred)\n",
    "\n",
    "# Plotting actual vs predicted values\n",
    "plt.scatter(X_test, y_test, color='blue', label='Actual')\n",
    "plt.plot(X_test, y_pred, color='red', linewidth=2, label='Predicted')\n",
    "plt.title('Linear Regression: Actual vs Predicted')\n",
    "plt.xlabel('X')\n",
    "plt.ylabel('y')\n",
    "plt.legend()\n",
    "plt.show()\n",
    "\n",
    "# Displaying MSE and R-Squared value\n",
    "print(\"Mean Squared Error (MSE):\", mse)\n",
    "print(\"R-Squared value:\", r2)\n"
   ]
  },
  {
   "cell_type": "code",
   "execution_count": 2,
   "id": "7fcdd32e",
   "metadata": {},
   "outputs": [
    {
     "name": "stdout",
     "output_type": "stream",
     "text": [
      "Accuracy: 1.0\n"
     ]
    }
   ],
   "source": [
    "from sklearn.datasets import load_iris\n",
    "from sklearn.model_selection import train_test_split\n",
    "from sklearn.neighbors import KNeighborsClassifier\n",
    "from sklearn.metrics import accuracy_score\n",
    "\n",
    "# Load the iris dataset\n",
    "iris = load_iris()\n",
    "X = iris.data\n",
    "y = iris.target\n",
    "\n",
    "# Splitting the dataset into training and testing sets\n",
    "X_train, X_test, y_train, y_test = train_test_split(X, y, test_size=0.2, random_state=42)\n",
    "\n",
    "# Creating the k-Nearest Neighbors classifier with k=3\n",
    "knn = KNeighborsClassifier(n_neighbors=3)\n",
    "\n",
    "# Training the classifier\n",
    "knn.fit(X_train, y_train)\n",
    "\n",
    "# Making predictions on the testing set\n",
    "y_pred = knn.predict(X_test)\n",
    "\n",
    "# Calculating the accuracy of the model\n",
    "accuracy = accuracy_score(y_test, y_pred)\n",
    "print(\"Accuracy:\", accuracy)\n"
   ]
  },
  {
   "cell_type": "code",
   "execution_count": 3,
   "id": "7ec60c8f",
   "metadata": {},
   "outputs": [
    {
     "name": "stdout",
     "output_type": "stream",
     "text": [
      "Predicted fruits: ['orange', 'mango']\n"
     ]
    }
   ],
   "source": [
    "import numpy as np\n",
    "from sklearn.svm import SVC\n",
    "from sklearn.metrics import accuracy_score\n",
    "\n",
    "# Sample data: [weight in grams, color (0 for orange, 1 for mango)]\n",
    "# You can adjust or expand this dataset as needed\n",
    "X = np.array([[150, 0], [200, 0], [100, 1], [180, 1], [250, 1]])\n",
    "y = np.array([0, 0, 1, 1, 1])  # 0 for orange, 1 for mango\n",
    "\n",
    "# Creating the SVM classifier model\n",
    "svm_classifier = SVC(kernel='linear')\n",
    "\n",
    "# Training the classifier\n",
    "svm_classifier.fit(X, y)\n",
    "\n",
    "# Test data\n",
    "X_test = np.array([[160, 0], [220, 1]])\n",
    "\n",
    "# Making predictions\n",
    "predictions = svm_classifier.predict(X_test)\n",
    "\n",
    "# Mapping predictions to fruit names\n",
    "fruit_names = {0: 'orange', 1: 'mango'}\n",
    "predicted_fruits = [fruit_names[prediction] for prediction in predictions]\n",
    "\n",
    "print(\"Predicted fruits:\", predicted_fruits)\n"
   ]
  },
  {
   "cell_type": "code",
   "execution_count": 4,
   "id": "6982e617",
   "metadata": {},
   "outputs": [
    {
     "name": "stdout",
     "output_type": "stream",
     "text": [
      "Accuracy: 0.0\n"
     ]
    }
   ],
   "source": [
    "import pandas as pd\n",
    "from sklearn.model_selection import train_test_split\n",
    "from sklearn.naive_bayes import GaussianNB\n",
    "from sklearn.metrics import accuracy_score\n",
    "\n",
    "# Sample dataset (you can replace this with your own dataset)\n",
    "data = {\n",
    "    'Age': [30, 25, 35, 40, 20, 45, 35, 50, 60, 55],\n",
    "    'Income': ['High', 'Low', 'Low', 'Medium', 'Low', 'Medium', 'High', 'Medium', 'High', 'Low'],\n",
    "    'Student': ['No', 'Yes', 'No', 'No', 'Yes', 'Yes', 'No', 'Yes', 'Yes', 'No'],\n",
    "    'Credit_rating': ['Fair', 'Poor', 'Fair', 'Fair', 'Fair', 'Excellent', 'Excellent', 'Fair', 'Excellent', 'Fair'],\n",
    "    'Buy_computer': ['No', 'No', 'Yes', 'Yes', 'Yes', 'No', 'Yes', 'No', 'Yes', 'Yes']\n",
    "}\n",
    "\n",
    "# Creating DataFrame from the sample dataset\n",
    "df = pd.DataFrame(data)\n",
    "\n",
    "# Map categorical variables to numerical values\n",
    "df['Income'] = df['Income'].map({'Low': 0, 'Medium': 1, 'High': 2})\n",
    "df['Student'] = df['Student'].map({'No': 0, 'Yes': 1})\n",
    "df['Credit_rating'] = df['Credit_rating'].map({'Poor': 0, 'Fair': 1, 'Excellent': 2})\n",
    "df['Buy_computer'] = df['Buy_computer'].map({'No': 0, 'Yes': 1})\n",
    "\n",
    "# Features and target variable\n",
    "X = df.drop('Buy_computer', axis=1)\n",
    "y = df['Buy_computer']\n",
    "\n",
    "# Splitting the dataset into training and testing sets\n",
    "X_train, X_test, y_train, y_test = train_test_split(X, y, test_size=0.2, random_state=42)\n",
    "\n",
    "# Creating the Naive Bayes classifier (Gaussian Naive Bayes)\n",
    "nb_classifier = GaussianNB()\n",
    "\n",
    "# Training the classifier\n",
    "nb_classifier.fit(X_train, y_train)\n",
    "\n",
    "# Making predictions on the testing set\n",
    "y_pred = nb_classifier.predict(X_test)\n",
    "\n",
    "# Calculating the accuracy of the model\n",
    "accuracy = accuracy_score(y_test, y_pred)\n",
    "print(\"Accuracy:\", accuracy)\n"
   ]
  },
  {
   "cell_type": "code",
   "execution_count": 5,
   "id": "35585076",
   "metadata": {},
   "outputs": [
    {
     "name": "stdout",
     "output_type": "stream",
     "text": [
      "BFS traversal:\n",
      "A B C D E F G "
     ]
    }
   ],
   "source": [
    "from collections import deque\n",
    "\n",
    "def bfs(graph, start):\n",
    "    visited = set()\n",
    "    queue = deque([start])\n",
    "    visited.add(start)\n",
    "    \n",
    "    while queue:\n",
    "        vertex = queue.popleft()\n",
    "        print(vertex, end=\" \")\n",
    "        \n",
    "        for neighbor in graph[vertex]:\n",
    "            if neighbor not in visited:\n",
    "                visited.add(neighbor)\n",
    "                queue.append(neighbor)\n",
    "\n",
    "# Example graph represented as adjacency list\n",
    "graph = {\n",
    "    'A': ['B', 'C'],\n",
    "    'B': ['A', 'D', 'E'],\n",
    "    'C': ['A', 'F', 'G'],\n",
    "    'D': ['B'],\n",
    "    'E': ['B'],\n",
    "    'F': ['C'],\n",
    "    'G': ['C']\n",
    "}\n",
    "\n",
    "print(\"BFS traversal:\")\n",
    "bfs(graph, 'A')\n"
   ]
  },
  {
   "cell_type": "code",
   "execution_count": 6,
   "id": "ae85d412",
   "metadata": {},
   "outputs": [
    {
     "name": "stdout",
     "output_type": "stream",
     "text": [
      "DFS traversal:\n",
      "A B D E C F G "
     ]
    }
   ],
   "source": [
    "def dfs(graph, start, visited=None):\n",
    "    if visited is None:\n",
    "        visited = set()\n",
    "    print(start, end=\" \")\n",
    "    visited.add(start)\n",
    "    \n",
    "    for neighbor in graph[start]:\n",
    "        if neighbor not in visited:\n",
    "            dfs(graph, neighbor, visited)\n",
    "\n",
    "# Example graph represented as adjacency list\n",
    "graph = {\n",
    "    'A': ['B', 'C'],\n",
    "    'B': ['A', 'D', 'E'],\n",
    "    'C': ['A', 'F', 'G'],\n",
    "    'D': ['B'],\n",
    "    'E': ['B'],\n",
    "    'F': ['C'],\n",
    "    'G': ['C']\n",
    "}\n",
    "\n",
    "print(\"DFS traversal:\")\n",
    "dfs(graph, 'A')\n"
   ]
  },
  {
   "cell_type": "code",
   "execution_count": 7,
   "id": "8d0e12d3",
   "metadata": {},
   "outputs": [
    {
     "name": "stdout",
     "output_type": "stream",
     "text": [
      "Epoch 1/10\n",
      "25/25 [==============================] - 0s 396us/step - loss: 0.6963 - accuracy: 0.5013\n",
      "Epoch 2/10\n",
      "25/25 [==============================] - 0s 396us/step - loss: 0.6903 - accuracy: 0.5025\n",
      "Epoch 3/10\n",
      "25/25 [==============================] - 0s 354us/step - loss: 0.6881 - accuracy: 0.5587\n",
      "Epoch 4/10\n",
      "25/25 [==============================] - 0s 376us/step - loss: 0.6876 - accuracy: 0.5512\n",
      "Epoch 5/10\n",
      "25/25 [==============================] - 0s 358us/step - loss: 0.6840 - accuracy: 0.5375\n",
      "Epoch 6/10\n",
      "25/25 [==============================] - 0s 375us/step - loss: 0.6816 - accuracy: 0.5587\n",
      "Epoch 7/10\n",
      "25/25 [==============================] - 0s 354us/step - loss: 0.6809 - accuracy: 0.5612\n",
      "Epoch 8/10\n",
      "25/25 [==============================] - 0s 333us/step - loss: 0.6792 - accuracy: 0.5800\n",
      "Epoch 9/10\n",
      "25/25 [==============================] - 0s 396us/step - loss: 0.6795 - accuracy: 0.5625\n",
      "Epoch 10/10\n",
      "25/25 [==============================] - 0s 377us/step - loss: 0.6763 - accuracy: 0.5813\n",
      "7/7 [==============================] - 0s 333us/step - loss: 0.6930 - accuracy: 0.5150\n",
      "Test accuracy: 0.5149999856948853\n"
     ]
    }
   ],
   "source": [
    "# Importing necessary libraries\n",
    "import numpy as np\n",
    "import tensorflow as tf\n",
    "from sklearn.model_selection import train_test_split\n",
    "\n",
    "# Generating sample data\n",
    "np.random.seed(0)\n",
    "X = 2 * np.random.rand(1000, 10)\n",
    "y = np.random.randint(2, size=(1000, 1))\n",
    "\n",
    "# Splitting the data into training and testing sets\n",
    "X_train, X_test, y_train, y_test = train_test_split(X, y, test_size=0.2, random_state=42)\n",
    "\n",
    "# Creating the model\n",
    "model = tf.keras.models.Sequential([\n",
    "    tf.keras.layers.Dense(64, activation='relu', input_shape=(10,)),\n",
    "    tf.keras.layers.Dense(32, activation='relu'),\n",
    "    tf.keras.layers.Dense(1, activation='sigmoid')\n",
    "])\n",
    "\n",
    "# Compiling the model\n",
    "model.compile(optimizer='adam',\n",
    "              loss='binary_crossentropy',\n",
    "              metrics=['accuracy'])\n",
    "\n",
    "# Training the model\n",
    "model.fit(X_train, y_train, epochs=10, batch_size=32, verbose=1)\n",
    "\n",
    "# Evaluating the model\n",
    "test_loss, test_acc = model.evaluate(X_test, y_test)\n",
    "print('Test accuracy:', test_acc)\n"
   ]
  },
  {
   "cell_type": "code",
   "execution_count": 8,
   "id": "129c938c",
   "metadata": {},
   "outputs": [
    {
     "name": "stdout",
     "output_type": "stream",
     "text": [
      "DataFrame for the string:\n",
      "     text\n",
      "0      He\n",
      "1      is\n",
      "2       a\n",
      "3    good\n",
      "4  person\n"
     ]
    }
   ],
   "source": [
    "import pandas as pd\n",
    "\n",
    "# Create a DataFrame for the string\n",
    "df_str = pd.DataFrame({'text': [\"He\", \"is\", \"a\", \"good\", \"person\"]})\n",
    "\n",
    "# Display the DataFrame\n",
    "print(\"DataFrame for the string:\")\n",
    "print(df_str)\n"
   ]
  },
  {
   "cell_type": "code",
   "execution_count": 9,
   "id": "9a6c4065",
   "metadata": {},
   "outputs": [
    {
     "name": "stdout",
     "output_type": "stream",
     "text": [
      "\n",
      "List of car names:\n",
      "0       Toyota\n",
      "1        Honda\n",
      "2         Ford\n",
      "3    Chevrolet\n",
      "Name: Car_Name, dtype: object\n",
      "\n",
      "Details of the second car:\n",
      "Car_Name    Honda\n",
      "Price       30000\n",
      "Name: 1, dtype: object\n"
     ]
    }
   ],
   "source": [
    "# Create a DataFrame for car_data\n",
    "car_data = {'Car_Name': ['Toyota', 'Honda', 'Ford', 'Chevrolet'],\n",
    "            'Price': [25000, 30000, 27000, 28000]}\n",
    "df_car = pd.DataFrame(car_data)\n",
    "\n",
    "# Display list of car names\n",
    "print(\"\\nList of car names:\")\n",
    "print(df_car['Car_Name'])\n",
    "\n",
    "# Display details of the second car using index\n",
    "print(\"\\nDetails of the second car:\")\n",
    "print(df_car.iloc[1])\n"
   ]
  },
  {
   "cell_type": "code",
   "execution_count": 11,
   "id": "4a3fa651",
   "metadata": {},
   "outputs": [
    {
     "name": "stdout",
     "output_type": "stream",
     "text": [
      "\n",
      "Updated DataFrame after appending new car data:\n",
      "    Car_Name  Price\n",
      "0     Toyota  25000\n",
      "1      Honda  30000\n",
      "2       Ford  27000\n",
      "3  Chevrolet  28000\n",
      "4        BMW  40000\n",
      "5   Mercedes  45000\n"
     ]
    }
   ],
   "source": [
    "# New car_data to append\n",
    "new_car_data = {'Car_Name': ['BMW', 'Mercedes'],\n",
    "                'Price': [40000, 45000]}\n",
    "df_new_car = pd.DataFrame(new_car_data)\n",
    "\n",
    "# Append new_car_data to the existing DataFrame\n",
    "df_car = df_car.append(df_new_car, ignore_index=True)\n",
    "\n",
    "# Display the updated DataFrame\n",
    "print(\"\\nUpdated DataFrame after appending new car data:\")\n",
    "print(df_car)\n"
   ]
  },
  {
   "cell_type": "code",
   "execution_count": 12,
   "id": "106495b3",
   "metadata": {},
   "outputs": [
    {
     "name": "stdout",
     "output_type": "stream",
     "text": [
      "\n",
      "Updated DataFrame after updating price of Toyota:\n",
      "    Car_Name  Price\n",
      "0     Toyota  26000\n",
      "1      Honda  30000\n",
      "2       Ford  27000\n",
      "3  Chevrolet  28000\n",
      "4        BMW  40000\n",
      "5   Mercedes  45000\n"
     ]
    }
   ],
   "source": [
    "# Update price of Toyota to 26000\n",
    "df_car.loc[df_car['Car_Name'] == 'Toyota', 'Price'] = 26000\n",
    "\n",
    "# Display the updated DataFrame\n",
    "print(\"\\nUpdated DataFrame after updating price of Toyota:\")\n",
    "print(df_car)\n"
   ]
  },
  {
   "cell_type": "code",
   "execution_count": 13,
   "id": "8d8a5169",
   "metadata": {},
   "outputs": [
    {
     "name": "stdout",
     "output_type": "stream",
     "text": [
      "\n",
      "DataFrame has been stored to 'car_data.csv' file.\n"
     ]
    }
   ],
   "source": [
    "# Store the DataFrame to a CSV file\n",
    "df_car.to_csv('car_data.csv', index=False)\n",
    "print(\"\\nDataFrame has been stored to 'car_data.csv' file.\")\n"
   ]
  },
  {
   "cell_type": "code",
   "execution_count": 14,
   "id": "486754dd",
   "metadata": {},
   "outputs": [
    {
     "name": "stdout",
     "output_type": "stream",
     "text": [
      "\n",
      "DataFrame read from CSV file:\n",
      "    Car_Name  Price\n",
      "0     Toyota  26000\n",
      "1      Honda  30000\n",
      "2       Ford  27000\n",
      "3  Chevrolet  28000\n",
      "4        BMW  40000\n",
      "5   Mercedes  45000\n"
     ]
    }
   ],
   "source": [
    "# Read the CSV file into another DataFrame\n",
    "df_read = pd.read_csv('car_data.csv')\n",
    "\n",
    "# Display the DataFrame read from CSV file\n",
    "print(\"\\nDataFrame read from CSV file:\")\n",
    "print(df_read)\n"
   ]
  },
  {
   "cell_type": "code",
   "execution_count": 15,
   "id": "365bda6b",
   "metadata": {
    "scrolled": true
   },
   "outputs": [
    {
     "name": "stdout",
     "output_type": "stream",
     "text": [
      "Shape of the array: (3, 4)\n",
      "Itemsize of the array (in bytes): 4\n",
      "Datatype of the array: int32\n",
      "Reshaped array:\n",
      "[[ 1  2  3]\n",
      " [ 4  5  6]\n",
      " [ 7  8  9]\n",
      " [10 11 12]]\n"
     ]
    }
   ],
   "source": [
    "import numpy as np\n",
    "\n",
    "# Create a 2-D array with 3 rows and 4 columns\n",
    "arr = np.array([[1, 2, 3, 4],\n",
    "                [5, 6, 7, 8],\n",
    "                [9, 10, 11, 12]])\n",
    "\n",
    "# Display shape, itemsize, and datatype of the array\n",
    "print(\"Shape of the array:\", arr.shape)\n",
    "print(\"Itemsize of the array (in bytes):\", arr.itemsize)\n",
    "print(\"Datatype of the array:\", arr.dtype)\n",
    "\n",
    "# Reshape the array as 4 rows and 3 columns\n",
    "arr_reshaped = arr.reshape(4, 3)\n",
    "print(\"Reshaped array:\")\n",
    "print(arr_reshaped)\n"
   ]
  },
  {
   "cell_type": "code",
   "execution_count": 16,
   "id": "fb8a8a65",
   "metadata": {},
   "outputs": [
    {
     "name": "stdout",
     "output_type": "stream",
     "text": [
      "Profit Margin Ratio: [0.2        0.25       0.28571429 0.3125     0.33333333]\n"
     ]
    }
   ],
   "source": [
    "# Create 1-D arrays for profit and sales\n",
    "profit = np.array([100, 150, 200, 250, 300])\n",
    "sales = np.array([500, 600, 700, 800, 900])\n",
    "\n",
    "# Calculate Profit Margin Ratio\n",
    "profit_margin_ratio = profit / sales\n",
    "print(\"Profit Margin Ratio:\", profit_margin_ratio)\n"
   ]
  },
  {
   "cell_type": "code",
   "execution_count": 19,
   "id": "c7cdb430",
   "metadata": {},
   "outputs": [
    {
     "data": {
      "image/png": "[encoded data removed]",
      "text/plain": [
       "<Figure size 432x288 with 1 Axes>"
      ]
     },
     "metadata": {
      "needs_background": "light"
     },
     "output_type": "display_data"
    }
   ],
   "source": [
    "import matplotlib.pyplot as plt\n",
    "\n",
    "# Generate random values for x and y\n",
    "x = np.random.rand(10)\n",
    "y = np.random.rand(10)\n",
    "\n",
    "# Plot the graph\n",
    "plt.plot(x, y)\n",
    "plt.title(\"Random Plot\")\n",
    "plt.xlabel(\"X-axis\")\n",
    "plt.ylabel(\"Y-axis\")\n",
    "plt.show()\n"
   ]
  },
  {
   "cell_type": "code",
   "execution_count": 21,
   "id": "830d5f73",
   "metadata": {},
   "outputs": [
    {
     "name": "stdout",
     "output_type": "stream",
     "text": [
      "DataFrame from CSV file:\n",
      "    Car_Name  Price\n",
      "0     Toyota  26000\n",
      "1      Honda  30000\n",
      "2       Ford  27000\n",
      "3  Chevrolet  28000\n",
      "4        BMW  40000\n",
      "5   Mercedes  45000\n"
     ]
    }
   ],
   "source": [
    "import pandas as pd\n",
    "\n",
    "# Reading CSV file and storing it in a DataFrame\n",
    "df = pd.read_csv('car_data.csv')\n",
    "print(\"DataFrame from CSV file:\")\n",
    "print(df)\n"
   ]
  },
  {
   "cell_type": "code",
   "execution_count": 22,
   "id": "af667a9b",
   "metadata": {},
   "outputs": [
    {
     "data": {
      "image/png": "[encoded data removed]",
      "text/plain": [
       "<Figure size 432x288 with 1 Axes>"
      ]
     },
     "metadata": {
      "needs_background": "light"
     },
     "output_type": "display_data"
    }
   ],
   "source": [
    "# Generating random data for two classes\n",
    "class1_x = np.random.rand(10)\n",
    "class1_y = np.random.rand(10)\n",
    "class2_x = np.random.rand(10)\n",
    "class2_y = np.random.rand(10)\n",
    "\n",
    "# Plotting scatter plot with different colors for each class\n",
    "plt.scatter(class1_x, class1_y, color='blue', label='Class 1')\n",
    "plt.scatter(class2_x, class2_y, color='red', label='Class 2')\n",
    "plt.title(\"Scatter Plot with Two Classes\")\n",
    "plt.xlabel(\"X-axis\")\n",
    "plt.ylabel(\"Y-axis\")\n",
    "plt.legend()\n",
    "plt.show()\n"
   ]
  },
  {
   "cell_type": "code",
   "execution_count": 23,
   "id": "12a5836d",
   "metadata": {},
   "outputs": [
    {
     "name": "stdout",
     "output_type": "stream",
     "text": [
      "DataFrame for calories_data:\n",
      "         day  calories_consumed  calories_burnt\n",
      "0     Monday               2000            1800\n",
      "1    Tuesday               2200            2000\n",
      "2  Wednesday               2100            1900\n",
      "3   Thursday               2300            2100\n",
      "4     Friday               2400            2200\n"
     ]
    }
   ],
   "source": [
    "import pandas as pd\n",
    "\n",
    "# Creating a DataFrame for calories_data\n",
    "calories_data = {\n",
    "    'day': ['Monday', 'Tuesday', 'Wednesday', 'Thursday', 'Friday'],\n",
    "    'calories_consumed': [2000, 2200, 2100, 2300, 2400],\n",
    "    'calories_burnt': [1800, 2000, 1900, 2100, 2200]\n",
    "}\n",
    "df_calories = pd.DataFrame(calories_data)\n",
    "\n",
    "print(\"DataFrame for calories_data:\")\n",
    "print(df_calories)\n"
   ]
  },
  {
   "cell_type": "code",
   "execution_count": 24,
   "id": "a387fb1c",
   "metadata": {},
   "outputs": [
    {
     "name": "stdout",
     "output_type": "stream",
     "text": [
      "\n",
      "DataFrame with calories_remaining:\n",
      "         day  calories_consumed  calories_burnt  calories_remaining\n",
      "0     Monday               2000            1800                 200\n",
      "1    Tuesday               2200            2000                 200\n",
      "2  Wednesday               2100            1900                 200\n",
      "3   Thursday               2300            2100                 200\n",
      "4     Friday               2400            2200                 200\n"
     ]
    }
   ],
   "source": [
    "# Calculate calories_remaining and add it as a new column\n",
    "df_calories['calories_remaining'] = df_calories['calories_consumed'] - df_calories['calories_burnt']\n",
    "\n",
    "print(\"\\nDataFrame with calories_remaining:\")\n",
    "print(df_calories)\n"
   ]
  },
  {
   "cell_type": "code",
   "execution_count": 25,
   "id": "d6b0d725",
   "metadata": {},
   "outputs": [
    {
     "name": "stdout",
     "output_type": "stream",
     "text": [
      "\n",
      "DataFrame with 'day' as index:\n",
      "           calories_consumed  calories_burnt\n",
      "day                                         \n",
      "Monday                  2000            1800\n",
      "Tuesday                 2200            2000\n",
      "Wednesday               2100            1900\n",
      "Thursday                2300            2100\n",
      "Friday                  2400            2200\n"
     ]
    }
   ],
   "source": [
    "# Set 'day' column as index\n",
    "df_calories.set_index('day', inplace=True)\n",
    "\n",
    "print(\"\\nDataFrame with 'day' as index:\")\n",
    "print(df_calories[['calories_consumed', 'calories_burnt']])\n"
   ]
  },
  {
   "cell_type": "code",
   "execution_count": 26,
   "id": "0c5285a8",
   "metadata": {},
   "outputs": [
    {
     "name": "stdout",
     "output_type": "stream",
     "text": [
      "\n",
      "DataFrame has been stored to 'calories_data.csv' file.\n"
     ]
    }
   ],
   "source": [
    "# Store the DataFrame to a CSV file\n",
    "df_calories.to_csv('calories_data.csv')\n",
    "print(\"\\nDataFrame has been stored to 'calories_data.csv' file.\")\n"
   ]
  },
  {
   "cell_type": "code",
   "execution_count": 27,
   "id": "b96282d8",
   "metadata": {},
   "outputs": [
    {
     "name": "stdout",
     "output_type": "stream",
     "text": [
      "\n",
      "Pandas version: 1.1.5\n"
     ]
    }
   ],
   "source": [
    "print(\"\\nPandas version:\", pd.__version__)\n"
   ]
  },
  {
   "cell_type": "code",
   "execution_count": null,
   "id": "dd883d24",
   "metadata": {},
   "outputs": [],
   "source": []
  }
 ],
 "metadata": {
  "kernelspec": {
   "display_name": "Python 3",
   "language": "python",
   "name": "python3"
  },
  "language_info": {
   "codemirror_mode": {
    "name": "ipython",
    "version": 3
   },
   "file_extension": ".py",
   "mimetype": "text/x-python",
   "name": "python",
   "nbconvert_exporter": "python",
   "pygments_lexer": "ipython3",
   "version": "3.6.13"
  }
 },
 "nbformat": 4,
 "nbformat_minor": 5
}
